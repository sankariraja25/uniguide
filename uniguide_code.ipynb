{
 "cells": [
  {
   "cell_type": "markdown",
   "id": "2079f92e",
   "metadata": {},
   "source": [
    "# UniGuide"
   ]
  },
  {
   "cell_type": "markdown",
   "id": "390a6d7e",
   "metadata": {},
   "source": [
    "Clarine - Indexing"
   ]
  },
  {
   "cell_type": "code",
   "execution_count": 1,
   "id": "1b200edb",
   "metadata": {},
   "outputs": [
    {
     "ename": "SyntaxError",
     "evalue": "invalid character '“' (U+201C) (1544605496.py, line 8)",
     "output_type": "error",
     "traceback": [
      "\u001b[0;36m  File \u001b[0;32m\"/var/folders/bc/dgs9l44s6s5fbxcy9_55vr7w0000gn/T/ipykernel_22260/1544605496.py\"\u001b[0;36m, line \u001b[0;32m8\u001b[0m\n\u001b[0;31m    s = BeautifulSoup(plain, “html.parser”)\u001b[0m\n\u001b[0m                             ^\u001b[0m\n\u001b[0;31mSyntaxError\u001b[0m\u001b[0;31m:\u001b[0m invalid character '“' (U+201C)\n"
     ]
    }
   ],
   "source": [
    "print(\"Hello\")"
   ]
  },
  {
   "cell_type": "code",
   "execution_count": null,
   "id": "7260d7c2",
   "metadata": {},
   "outputs": [],
   "source": []
  },
  {
   "cell_type": "markdown",
   "id": "739873c2",
   "metadata": {},
   "source": [
    "Siva - Retrieval BM25"
   ]
  },
  {
   "cell_type": "code",
   "execution_count": null,
   "id": "b50c8199",
   "metadata": {},
   "outputs": [],
   "source": []
  },
  {
   "cell_type": "markdown",
   "id": "ec506e86",
   "metadata": {},
   "source": [
    "Nithya - Evaluation"
   ]
  },
  {
   "cell_type": "code",
   "execution_count": null,
   "id": "8c677001",
   "metadata": {},
   "outputs": [],
   "source": []
  }
 ],
 "metadata": {
  "kernelspec": {
   "display_name": "Python 3 (ipykernel)",
   "language": "python",
   "name": "python3"
  },
  "language_info": {
   "codemirror_mode": {
    "name": "ipython",
    "version": 3
   },
   "file_extension": ".py",
   "mimetype": "text/x-python",
   "name": "python",
   "nbconvert_exporter": "python",
   "pygments_lexer": "ipython3",
   "version": "3.9.7"
  }
 },
 "nbformat": 4,
 "nbformat_minor": 5
}
